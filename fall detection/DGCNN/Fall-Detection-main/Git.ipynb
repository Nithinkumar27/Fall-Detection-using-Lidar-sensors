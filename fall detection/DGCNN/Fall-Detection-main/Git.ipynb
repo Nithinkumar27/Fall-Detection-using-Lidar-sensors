{
 "cells": [
  {
   "cell_type": "code",
   "execution_count": 31,
   "metadata": {
    "id": "voMiSd9xTptG",
    "tags": []
   },
   "outputs": [],
   "source": [
    "import open3d as o3d\n",
    "import numpy as np"
   ]
  },
  {
   "cell_type": "code",
   "execution_count": 32,
   "metadata": {
    "colab": {
     "base_uri": "https://localhost:8080/"
    },
    "executionInfo": {
     "elapsed": 540,
     "status": "ok",
     "timestamp": 1677412938786,
     "user": {
      "displayName": "Vignesh. PG",
      "userId": "00941566367873673212"
     },
     "user_tz": -330
    },
    "id": "xyB7bIU0TrO5",
    "outputId": "0f0832d3-45d7-43ae-aec8-def8c49d11bf"
   },
   "outputs": [],
   "source": [
    "pc_ply=o3d.io.read_point_cloud(\"D:\\Project\\AMRITA PROJECTS\\Fall Detection\\Lidar ply\\Standing .ply\")"
   ]
  },
  {
   "cell_type": "code",
   "execution_count": 33,
   "metadata": {
    "id": "aQjgfB3DTrRz"
   },
   "outputs": [],
   "source": [
    "o3d.visualization.draw_geometries([pc_ply])"
   ]
  },
  {
   "cell_type": "code",
   "execution_count": 34,
   "metadata": {},
   "outputs": [],
   "source": [
    "downpcd=pc_ply.voxel_down_sample(voxel_size=0.05)"
   ]
  },
  {
   "cell_type": "code",
   "execution_count": 35,
   "metadata": {},
   "outputs": [],
   "source": [
    "o3d.visualization.draw_geometries([downpcd])"
   ]
  },
  {
   "cell_type": "code",
   "execution_count": 36,
   "metadata": {},
   "outputs": [],
   "source": [
    "import matplotlib.pyplot as plt\n",
    "import os\n",
    "import sys"
   ]
  },
  {
   "cell_type": "code",
   "execution_count": 37,
   "metadata": {},
   "outputs": [
    {
     "name": "stdout",
     "output_type": "stream",
     "text": [
      "alpha=0.070\n"
     ]
    }
   ],
   "source": [
    "alpha=0.07\n",
    "print(f\"alpha={alpha:.3f}\")\n",
    "mesh=o3d.geometry.TriangleMesh.create_from_point_cloud_alpha_shape(pc_ply,alpha)\n",
    "o3d.visualization.draw_geometries([mesh],mesh_show_back_face=True)"
   ]
  },
  {
   "cell_type": "code",
   "execution_count": 38,
   "metadata": {},
   "outputs": [],
   "source": [
    "def display_inlier_outlier(cloud, ind):\n",
    "    inlier_cloud = cloud.select_by_index(ind)\n",
    "    outlier_cloud = cloud.select_by_index(ind, invert=True)\n",
    "\n",
    "    print(\"Showing outliers (red) and inliers (gray): \")\n",
    "    outlier_cloud.paint_uniform_color([1, 0, 0])\n",
    "    inlier_cloud.paint_uniform_color([0.8, 0.8, 0.8])\n",
    "    o3d.visualization.draw_geometries([inlier_cloud, outlier_cloud])"
   ]
  },
  {
   "cell_type": "code",
   "execution_count": 39,
   "metadata": {},
   "outputs": [
    {
     "name": "stdout",
     "output_type": "stream",
     "text": [
      "Showing outliers (red) and inliers (gray): \n"
     ]
    }
   ],
   "source": [
    "cl,ind=downpcd.remove_statistical_outlier(nb_neighbors=20,std_ratio=2.0)\n",
    "display_inlier_outlier(downpcd,ind)"
   ]
  },
  {
   "cell_type": "code",
   "execution_count": null,
   "metadata": {},
   "outputs": [],
   "source": []
  }
 ],
 "metadata": {
  "colab": {
   "authorship_tag": "ABX9TyOie4nFWGBGN9x2Ox8YTD9W",
   "provenance": []
  },
  "kernelspec": {
   "display_name": "Python 3 (ipykernel)",
   "language": "python",
   "name": "python3"
  },
  "language_info": {
   "codemirror_mode": {
    "name": "ipython",
    "version": 3
   },
   "file_extension": ".py",
   "mimetype": "text/x-python",
   "name": "python",
   "nbconvert_exporter": "python",
   "pygments_lexer": "ipython3",
   "version": "3.9.0"
  },
  "vscode": {
   "interpreter": {
    "hash": "4a2c34ea83828afab703030a29f86f89dafb43ab704a6d3ed439a4a70adaed2e"
   }
  }
 },
 "nbformat": 4,
 "nbformat_minor": 4
}
